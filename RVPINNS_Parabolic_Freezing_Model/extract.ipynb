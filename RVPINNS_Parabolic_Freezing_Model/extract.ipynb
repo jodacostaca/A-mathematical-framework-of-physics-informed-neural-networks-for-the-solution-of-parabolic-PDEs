{
 "cells": [
  {
   "cell_type": "code",
   "execution_count": null,
   "metadata": {},
   "outputs": [
    {
     "name": "stdout",
     "output_type": "stream",
     "text": [
      "Done! Created /mnt/data/training_log_loss.csv and /mnt/data/training_log_error.csv.\n"
     ]
    }
   ],
   "source": [
    "# =============================================================================\n",
    "#                    Import Required Modules\n",
    "# =============================================================================\n",
    "import re      # Regular expressions for log parsing\n",
    "import csv     # CSV file reading/writing\n",
    "\n",
    "# =============================================================================\n",
    "#                    1) Load Training Log into Memory\n",
    "# =============================================================================\n",
    "with open(\"training_log.txt\", \"r\", encoding=\"utf-8\") as f:\n",
    "    log_data = f.read()   # Read entire file as one string\n",
    "\n",
    "# =============================================================================\n",
    "#                    2) Define Regex Pattern for Parsing\n",
    "# =============================================================================\n",
    "# Captures:\n",
    "#   group(1) → current epoch number\n",
    "#   group(2) → total number of epochs (unused)\n",
    "#   group(3) → err_value (floating point)\n",
    "#   group(4) → loss value (floating point)\n",
    "pattern = re.compile(\n",
    "    r'Epoch\\s+(\\d+)/(\\d+)\\s*\\n'         # \"Epoch X/Y\" line\n",
    "    r'.*?err_value:\\s*([\\d\\.Ee+\\-]+)\\s*' # \"err_value: <number>\"\n",
    "    r'-\\s*loss:\\s*([\\d\\.Ee+\\-]+)'        # \"- loss: <number>\"\n",
    ")\n",
    "\n",
    "# =============================================================================\n",
    "#                    3) Extract Metrics from Log Text\n",
    "# =============================================================================\n",
    "matches = pattern.findall(log_data)\n",
    "\n",
    "# Store parsed entries as tuples: (epoch, err_value, loss_value)\n",
    "data = []\n",
    "for epoch_str, _, err_str, loss_str in matches:\n",
    "    epoch_num      = int(epoch_str)\n",
    "    err_val        = float(err_str)\n",
    "    loss_val       = float(loss_str)\n",
    "    data.append((epoch_num, err_val, loss_val))\n",
    "\n",
    "# =============================================================================\n",
    "#                    4) Sort Entries by Epoch Number\n",
    "# =============================================================================\n",
    "data.sort(key=lambda entry: entry[0])\n",
    "\n",
    "# =============================================================================\n",
    "#                    5A) Write Loss Values to CSV\n",
    "# =============================================================================\n",
    "with open(\"training_log_loss.csv\", \"w\", newline=\"\", encoding=\"utf-8\") as f_loss:\n",
    "    writer = csv.writer(f_loss)\n",
    "    writer.writerow([\"epoch\", \"loss\"])  # Header row\n",
    "    for epoch_num, err_val, loss_val in data:\n",
    "        writer.writerow([epoch_num, loss_val])\n",
    "\n",
    "# =============================================================================\n",
    "#                    5B) Write Error Values to CSV\n",
    "# =============================================================================\n",
    "with open(\"training_log_error.csv\", \"w\", newline=\"\", encoding=\"utf-8\") as f_error:\n",
    "    writer = csv.writer(f_error)\n",
    "    writer.writerow([\"epoch\", \"err_value\"])  # Header row\n",
    "    for epoch_num, err_val, loss_val in data:\n",
    "        writer.writerow([epoch_num, err_val])\n",
    "\n",
    "print(\"Done! Created training_log_loss.csv and training_log_error.csv.\")\n"
   ]
  }
 ],
 "metadata": {
  "kernelspec": {
   "display_name": "Python 3",
   "language": "python",
   "name": "python3"
  },
  "language_info": {
   "codemirror_mode": {
    "name": "ipython",
    "version": 3
   },
   "file_extension": ".py",
   "mimetype": "text/x-python",
   "name": "python",
   "nbconvert_exporter": "python",
   "pygments_lexer": "ipython3",
   "version": "3.11.0"
  }
 },
 "nbformat": 4,
 "nbformat_minor": 2
}
